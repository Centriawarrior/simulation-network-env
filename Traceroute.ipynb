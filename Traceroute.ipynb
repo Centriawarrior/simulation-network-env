{
 "cells": [
  {
   "cell_type": "markdown",
   "metadata": {},
   "source": [
    "# Tracing a route through Internet\n",
    "\n",
    "In this assignment I picked some starting point in Internet and traced the route from that starting point to a destination that I also selected freely."
   ]
  },
  {
   "cell_type": "markdown",
   "metadata": {},
   "source": [
    "#1\n",
    "In what country and in which city was the server that you selected as a starting point for your trace. What was your destination in the test.\n",
    "\n",
    "Country: Germany\n",
    "\n",
    "City: Frankfurt\n",
    "\n",
    "Link to the service: https://lg.he.net/\n",
    "\n",
    "Who provides the service? Hurricane Electric\n",
    "\n",
    "Destination: www.turkuamk.fi"
   ]
  },
  {
   "cell_type": "markdown",
   "metadata": {},
   "source": [
    "#2 How many routers were between the traceroute server and the destination you had selected? Pasted also a screen clip of the trace. \n",
    "\n",
    "Number of routers:\n",
    "\n",
    "There were total of 8 hops between quinix Zürich (ZH4)Zurich, CH and Destination\n",
    "\n",
    "![trace](images/image.png)\n",
    "![nslookup](images/nslookup.png)"
   ]
  },
  {
   "cell_type": "markdown",
   "metadata": {},
   "source": [
    "### 3 List at least three operators whose networks were in the path from sender to receiver. You can do this by checking the owner of the router’s IP address (https://www.ripe.net/). The IP address in the output rows belong to the intermediate routers in the operator’s network.\n",
    "\n",
    "Hurricane Electric 184.105.65.30 and 184.104.192.106\n",
    "\n",
    "Ficix (I had to google, and it stands for Finnish Communication and Internet Exchange) 193.110.224.68\n",
    "\n",
    "UpCloud (destination) 94.237.33.158\n"
   ]
  },
  {
   "cell_type": "markdown",
   "metadata": {},
   "source": [
    "### 4 Give an approximate of the time it takes in average from the packets to arrive from the sender to final destination? Argument your answer.\n",
    "\n",
    "After small study session I understand that, there is no approx time for package travel. Normal times are calculated in milliseconds. The average can vary based on factors such as network congestion, routing or maybe responsiveness of the devices along the path.\n",
    "\n",
    "\n"
   ]
  },
  {
   "cell_type": "markdown",
   "metadata": {},
   "source": [
    "### 5 What was the greatest time difference between two successive routers?\n",
    "\n",
    "Fastest hop was 7.691ms and slowest was 32.09ms so difference greatest difference was 24.30ms"
   ]
  },
  {
   "cell_type": "markdown",
   "metadata": {},
   "source": [
    "### 6 Was there something odd in your trace?\n",
    "\n",
    "Nothing odd, at least to my eyes. While the trace shows some variations in latency, there doesn't seem to be anything unusual or alarming.\n"
   ]
  },
  {
   "cell_type": "markdown",
   "metadata": {},
   "source": [
    "### 7 Try to find out some interesting facts about the operators related to your trace. E.g. how big a network they have, or something related to their history. (Alternatively you can try to find out some facts related to the destination - e.g. the kind of data center where it is located, etc.\n",
    "\n",
    "For question 3 I had to google Ficix because the name did not ring any bells. Did you know that Finnich Communication and Internet Exchange is Finland’s largest and Europe’s oldest connection point for Internet service providers. I also didn't know that members of Ficix are intended to be autonomous systems, and traffic for which members charge each other may not be carried through."
   ]
  }
 ],
 "metadata": {
  "language_info": {
   "name": "python"
  }
 },
 "nbformat": 4,
 "nbformat_minor": 2
}
