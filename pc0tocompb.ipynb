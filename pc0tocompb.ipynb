{
 "cells": [
  {
   "cell_type": "markdown",
   "metadata": {},
   "source": [
    "## Built an Ethernet LAN and configure it to be an IP-network\n",
    "\n",
    "![trace](images/pc0tocompb.png)\n",
    "\n",
    "[Download the packet tracer file from here](./pktpackages)"
   ]
  }
 ],
 "metadata": {
  "language_info": {
   "name": "python"
  }
 },
 "nbformat": 4,
 "nbformat_minor": 2
}
