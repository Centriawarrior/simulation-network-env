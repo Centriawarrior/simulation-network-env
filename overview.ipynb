{
 "cells": [
  {
   "cell_type": "markdown",
   "metadata": {},
   "source": [
    "# General information\n",
    "\n",
    "I use Cisco Packet Tracer simulation program to build these \"projects\". If you want to see my simulations (like one below) working live, you need to install it (Packet Tracer) onto your computer and download my [.pkt file](./pktpackages) for the simulation. By enrolling to Introduction to Packet Tracer course, you can download the program.\n",
    "\n",
    "\n",
    "![example](images/general_example.png)\n",
    "\n",
    "\n",
    "In most of the topics I benefit from the use of network simulator and other tools that illustrate the structure and functioning of the things that I am just trying to learn.\n",
    "\n",
    "## Contents\n",
    "\n",
    "\n",
    "- Internet and IP Networks - overall structure and functioning \n",
    "- [IP Protocol](ipprotocols.ipynb)\n",
    "- [IP in Local Area Network](ipprotocols.ipynb)\n",
    "- [Domain Name System](dns.ipynb)\n",
    "- Transport Layer - TCP and UDP\n",
    "- Transport Layer - Network Address Translation (NAT)\n",
    "- Applications\n",
    "- Information Security\n"
   ]
  }
 ],
 "metadata": {
  "language_info": {
   "name": "python"
  }
 },
 "nbformat": 4,
 "nbformat_minor": 2
}
