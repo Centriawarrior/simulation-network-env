{
 "cells": [
  {
   "cell_type": "markdown",
   "metadata": {},
   "source": [
    "# Networks and IP\n",
    "Here I will\n",
    "\n",
    "- Build local area networks and configure them to be IP-networks.\n",
    "- Enable routing between networks.\n",
    "- Study how IP packets are carried in an ethernet LAN.\n",
    "- These activities deepened my understanding about IP networks’ structure and functioning.\n",
    "\n",
    "### 1/2 IP Networks and Routing\n",
    "\n",
    "Toteutin kuvan mukaisen verkko simulaation, jossa on kolme asiakas ip-verkkoa ja operaattorin verkko. Konfiguroin nyös verkkojen IP-asetukset sekä myös reitityksen konfiguroinnin operaattoriverkossa. \n",
    "\n",
    "![route1](images/threestep1.png)\n",
    "\n",
    "Kuvassa PC0 ikkuna havainnollistaa yhteyttä verkossa Yrityksestä A -> yritykseen C.\n",
    "\n",
    "\n",
    "![route2](images/threestep2.png)\n",
    "\n",
    "Kuvassa PC2 ikkuna havainnollistaa yhteyttä verkossa Yrityksestä C -> yritykseen B.\n",
    "\n",
    "\n",
    "![rconfig](images/threestep3.png)\n",
    "\n",
    "Kuvassa ikkuna havainnollistaa simulaation onnistunutta konfigurointia."
   ]
  },
  {
   "cell_type": "markdown",
   "metadata": {},
   "source": [
    "### 2/2 Build an Ethernet LAN and configure it to be an IP-network\n",
    "\n",
    "Kuvassa näkyykin kivasti kaikkien ip osoitteet. Laitteet on ethernetillä yhdistettynä toisiinsa. \n",
    "\n",
    "Lataathan paketin part1 [täältä](./pktpackages)\n",
    "\n",
    "![ethernet_lan](images/ethernetlan.png)"
   ]
  }
 ],
 "metadata": {
  "language_info": {
   "name": "python"
  }
 },
 "nbformat": 4,
 "nbformat_minor": 2
}
