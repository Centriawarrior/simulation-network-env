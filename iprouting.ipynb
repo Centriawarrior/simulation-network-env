{
 "cells": [
  {
   "cell_type": "markdown",
   "metadata": {},
   "source": [
    "# IP Networks and Routing\n",
    "\n",
    "Toteutin kuvan mukaisen verkko simulaation, jossa on kolme asiakas ip-verkkoa ja operaattorin verkko. Konfiguroin nyös verkkojen IP-asetukset sekä myös reitityksen konfiguroinnin operaattoriverkossa. \n",
    "\n",
    "![route1](images/threestep1.png)\n",
    "\n",
    "Kuvassa PC0 ikkuna havainnollistaa yhteyttä verkossa Yrityksestä A -> yritykseen C.\n",
    "\n",
    "\n",
    "![route2](images/threestep2.png)\n",
    "\n",
    "Kuvassa PC2 ikkuna havainnollistaa yhteyttä verkossa Yrityksestä C -> yritykseen B.\n",
    "\n",
    "\n",
    "![rconfig](images/threestep3.png)\n",
    "\n",
    "Kuvassa ikkuna havainnollistaa simulaation onnistunutta konfigurointia."
   ]
  }
 ],
 "metadata": {
  "language_info": {
   "name": "python"
  }
 },
 "nbformat": 4,
 "nbformat_minor": 2
}
