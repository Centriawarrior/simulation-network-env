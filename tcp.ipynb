{
 "cells": [
  {
   "cell_type": "markdown",
   "metadata": {},
   "source": [
    "# Applications and IP\n",
    "Why is IP not enough for applications?\n",
    "\n",
    "Let's assume that client and server applications would use IP directly to send and receive data. We would encounter two problems:\n",
    "\n",
    " \n",
    "\n",
    "Many applications can simultaneously be active in a computer - how the IP Layer would know to which of them it should give the data inside the IP-packet that has arrived from local or remote IP-network.\n",
    " \n",
    "IP is intentionally designed to be a best effort delivery service. It means it doesn't guarantee that the data arrives at the destination or that it is not corrupted. Even when the data arrives without errors to destination the correct order of packets is not guaranteed.\n",
    "Here we study that how so called transport layer between applications and IP resolves these problems.\n",
    "\n",
    "Transport Layer - TCP and UDP\n",
    " \n",
    "\n",
    "##  Why is IP not enough for applications?\n",
    "\n",
    "Let's assume that client and server applications would use IP directly to send and receive data. We would encounter two problems:\n",
    "\n",
    "- Many applications can simultaneously be active in a computer - how the IP Layer would know to which of them it should give the data inside the IP-packet that has arrived from local or remote IP-network.\n",
    "- IP has intentionally designed to be a best effort delivery service. It means it doesn't guarantee that the data arrives at the destination or that it is not corrupted. Even when the data arrives without errors to destination the correct order of packets is not guaranteed.\n",
    "\n",
    "## How does the Transport layer complement IP?\n",
    "\n",
    "Transport layer protocols TCP (Transport Control Protocol) and UDP (User Datagram Protocol) solves the first problem by port-numbers. Destination port number and source port number identifies the communication applications.\n",
    "\n",
    "![ ](images/tcp-and-udp.png)\n",
    "\n",
    "Figure: Examples of TCP-message (called TCP-segment) and UDP-message (called UDP-datagram).\n",
    "\n",
    "\n",
    "\n",
    "TCP also solves the second problem - reliability -  by error detection, sequence numbers,  automatic retransmission and acknowledgement mechanism. UDP instead is a lightweight transport protocol that solves only the application addressing problem.  It could be e.g. the choice for applications when communication between client and server is just one short request and one short response. \n",
    "\n",
    " \n",
    "\n",
    "TCP also has a flow control mechanism that helps to adapt to different communication channel speeds and variations in client and server data processing capabilities. \n",
    "\n",
    " "
   ]
  },
  {
   "cell_type": "markdown",
   "metadata": {},
   "source": [
    "## TCP Session\n",
    " \n",
    "\n",
    "To make its features possible TCP uses sessions. Session concept means that the communication can be in different states. E.g. to establish communication the client needs to ask the server to accept session creation with some parameter values. Server can accept it and suggest its own session related parameters. If a client accepts them then the session is established. Flag-field bits SYN and ACK are related to session setup.\n",
    "\n",
    "The session concept makes it possible for parties to be aware of the amount and order of bytes received and transferred during the session - this information is visible in TCP header's sequence number and acknowledgement number fields. The acknowledgement of received data happens by telling in the acknowledgement number field what byte number the receiver is expecting next. If the sender doesn't get acknowledgement within a certain time it resends data. \n",
    "\n",
    "\n",
    "TCP implements flow control by window mechanism. Both parties tell in the TCP header what is the maximum number of bytes  (window) the other party can send without getting an acknowledgement. \n",
    "\n",
    "##   Packet Tracer Simulation\n",
    " \n",
    "\n",
    "We use PT simulation in the following scenarios:\n",
    "\n",
    "- User connects with the browser to a www-server. In this scenario we see that the browser and www-server use the TCP-transport layer in their communication. We also see what port numbers they use.\n",
    "\n",
    "- User pings the target computer using its domain name. In this scenario we see that DNS-queries and answers are sent using UDP-transport layer protocol\n",
    "\n",
    "Server applications use so-called well-known port numbers that make it possible for client application developers to use those port numbers as default destination port numbers so that application users don't need to tell the server application port number in the user interface.\n",
    "\n",
    "In the first scenario it is also possible to see TCP-session setup between client and server if you look at the FLAGS-field. That is however difficult because the individual FLAGS-field bits are not named in the simulator trace. The figure below helps you understand the role that SYN-bit and ACK-bit plays in a session setup.\n",
    "\n",
    "![ ](images/flags.png)\n",
    "\n",
    "Firewalls use this information to protect home network in the following way: if an IP-packet coming from Internet carries TCP and the TCP has SYN-bit set (without ACK-bit) it rejects this packet because it means that someone is trying to setup a session with a device in your home network. This kind of protection is typically the default configured behaviour for home firewalls.\n",
    "\n",
    "\n",
    "\n",
    "Advanced: In the first PT-scenario you can see also the initial window-sizes that client and server suggest for the session. The ACKs in session setup means also that the ACK-sender accepts the other party's suggested windows-size for the session. In our PT simulation Client TCP suggested 65535 bytes window-size and Server TCP suggested 16384 bytes window-size. What does this mean in practice?"
   ]
  },
  {
   "cell_type": "markdown",
   "metadata": {},
   "source": [
    "![](images/envelopes.png)"
   ]
  },
  {
   "cell_type": "markdown",
   "metadata": {},
   "source": [
    "## Transport and application layer protocols\n",
    "\n",
    "Many applications in client and server machines - how to address applications?\n",
    "\n",
    "![ ](images/ip-transport.png)\n",
    "\n",
    "![ ](images/ip-transport-2.png)\n",
    "\n",
    "![ ](images/ip-transport-3.png)\n",
    "\n",
    "![ ](images/ip-transport-4.png)\n"
   ]
  }
 ],
 "metadata": {
  "language_info": {
   "name": "python"
  }
 },
 "nbformat": 4,
 "nbformat_minor": 2
}
