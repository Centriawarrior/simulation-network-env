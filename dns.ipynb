{
 "cells": [
  {
   "cell_type": "markdown",
   "metadata": {},
   "source": [
    "# Domain Name System (DNS)\n",
    " \n",
    "\n",
    "##  Overview\n",
    " \n",
    "\n",
    "Application can send an IP-packet only if it knows the destination's IP-address. For application users it is difficult to remember numbers and that's why the Domain Name System has been developed. It makes it possible to use symbolic names instead of IP-addresses. To make this possible, two things must exist: worldwide name administration and lookup service available to computers.\n",
    "\n",
    "\n",
    "Internet Corporation for Names and Numbers (ICANN) coordinates the hierarchical name system that is called Domain Name System. The highest name level visible to users is called Top Level Domain (TLD). For example com, org, edu are top level domain names. The actual registering of names under top level domains is delegated to registrar-companies.\n",
    "\n",
    "\n",
    "The lookup service that supports Domain Name Queries for computers consists of hierarchical name server systems. Every organisation that has registered a domain name must provide the IP-address of a name server that knows IP-addresses for names defined under their registered domain and IP-addresses that the name presents. E.g. Centria who has registered name centria.fi must provide the IP-address of a server that knows IP-addresses of names defined under centria.fi - e.g. www.centria.fi, research.centria.fi.  The name server's own IP-addresses are registered to the upper level name server's database. To guarantee uninterrupted availability of name servers there must be at least two name servers for a domain. The highest-level name server is called root name server - you find its database contents here.\n",
    "\n",
    "##   How do nameservers play together – handled during lecture\n",
    " \n",
    "\n",
    "In the picture below, the user tells the destination by symbolic name: www.compb.fi. It is smart to first study the responsibilities of different level name servers after which you are capable of ordering the sequence of events in this example.\n",
    "\n",
    "![](images/dns-query-example.png)"
   ]
  }
 ],
 "metadata": {
  "language_info": {
   "name": "python"
  }
 },
 "nbformat": 4,
 "nbformat_minor": 2
}
